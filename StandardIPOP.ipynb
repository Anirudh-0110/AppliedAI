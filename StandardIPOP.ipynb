{
 "cells": [
  {
   "cell_type": "code",
   "execution_count": 3,
   "id": "ad3f76b6-9351-458f-928a-0a7b172c6262",
   "metadata": {},
   "outputs": [
    {
     "name": "stdout",
     "output_type": "stream",
     "text": [
      "a is 10 and b is 20\n",
      "20 is greater than 10\n"
     ]
    }
   ],
   "source": [
    "a,b = 10, 20\n",
    "\n",
    "print(\"a is {} and b is {}\".format(a,b))\n",
    "\n",
    "print(f\"{b} is greater than {a}\")"
   ]
  },
  {
   "cell_type": "code",
   "execution_count": 4,
   "id": "75a68ae8-507d-4eab-8263-71dff2bc146d",
   "metadata": {},
   "outputs": [
    {
     "name": "stdout",
     "output_type": "stream",
     "text": [
      "The story of my life\n"
     ]
    }
   ],
   "source": [
    "print(\"The story {0} {1} {2}\".format(\"of\",\"my\",\"life\"))"
   ]
  },
  {
   "cell_type": "code",
   "execution_count": 2,
   "id": "f64ce3f2-139b-4374-9c24-42524a25b490",
   "metadata": {},
   "outputs": [
    {
     "name": "stdin",
     "output_type": "stream",
     "text": [
      "Enter a number:  10\n",
      "Enter a number:  84\n"
     ]
    },
    {
     "name": "stdout",
     "output_type": "stream",
     "text": [
      "10 + 84 = 94\n"
     ]
    }
   ],
   "source": [
    "num1 = int(input(\"Enter a number: \"))\n",
    "num2 = int(input(\"Enter a number: \"))\n",
    "\n",
    "add = num1+num2\n",
    "\n",
    "print(f\"{num1} + {num2} = {add}\")\n"
   ]
  },
  {
   "cell_type": "code",
   "execution_count": null,
   "id": "6df681ec-1126-48b8-8271-08be9c760ddc",
   "metadata": {},
   "outputs": [],
   "source": []
  }
 ],
 "metadata": {
  "kernelspec": {
   "display_name": "Python 3 (ipykernel)",
   "language": "python",
   "name": "python3"
  },
  "language_info": {
   "codemirror_mode": {
    "name": "ipython",
    "version": 3
   },
   "file_extension": ".py",
   "mimetype": "text/x-python",
   "name": "python",
   "nbconvert_exporter": "python",
   "pygments_lexer": "ipython3",
   "version": "3.13.5"
  }
 },
 "nbformat": 4,
 "nbformat_minor": 5
}
